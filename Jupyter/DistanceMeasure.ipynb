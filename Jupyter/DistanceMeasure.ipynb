{
 "cells": [
  {
   "cell_type": "code",
   "execution_count": 1,
   "metadata": {},
   "outputs": [],
   "source": [
    "import os\n",
    "import sys\n",
    "import importlib\n",
    "import numpy as np\n",
    "import seaborn as sns\n",
    "import pandas as pd"
   ]
  },
  {
   "cell_type": "code",
   "execution_count": 2,
   "metadata": {},
   "outputs": [],
   "source": [
    "sys.path.insert(0, os.path.abspath('../'))\n",
    "from Kernel.SubsequenceStringKernel import SubsequenceStringKernel\n",
    "import Util.Util as Util\n",
    "import Constant as C\n",
    "import Util.MetricsUtil as metric\n",
    "import Model.SVMModel as SVMModel"
   ]
  },
  {
   "cell_type": "code",
   "execution_count": 3,
   "metadata": {},
   "outputs": [
    {
     "data": {
      "text/plain": [
       "<module 'Model.SVMModel' from '/Users/pradeep/Files/ML/StringKernel/Model/SVMModel.py'>"
      ]
     },
     "execution_count": 3,
     "metadata": {},
     "output_type": "execute_result"
    }
   ],
   "source": [
    "importlib.reload(Util)\n",
    "importlib.reload(metric)\n",
    "importlib.reload(C)\n",
    "importlib.reload(SVMModel)"
   ]
  },
  {
   "cell_type": "code",
   "execution_count": 4,
   "metadata": {},
   "outputs": [],
   "source": [
    "%matplotlib notebook\n",
    "from matplotlib import pyplot as plt\n",
    "from matplotlib.pyplot import figure\n",
    "from matplotlib.ticker import MaxNLocator"
   ]
  },
  {
   "cell_type": "code",
   "execution_count": 5,
   "metadata": {},
   "outputs": [
    {
     "name": "stdout",
     "output_type": "stream",
     "text": [
      "case1 :  Trump vs Erdoğan\n",
      "case2 :  Trump vs Shakespeare\n",
      "case3 :  None vs None\n",
      "case4 :  Trump vs Biden\n",
      "case5 :  Trump vs Macron\n",
      "case6 :  Shakespeare vs Bible\n",
      "case7 :  Democrats vs Republican\n",
      "case8 :  Biden vs Bible\n",
      "case9 :  Trump vs Johnson\n"
     ]
    }
   ],
   "source": [
    "for key in C.cases:\n",
    "    print(key,\": \",C.cases[key][0],\"vs\",C.cases[key][1])\n",
    "\n",
    "case_name = \"case8\"\n",
    "purpose=\"test\"\n",
    "m_lambda = C.m_lambda\n",
    "n = C.N"
   ]
  },
  {
   "cell_type": "code",
   "execution_count": 6,
   "metadata": {},
   "outputs": [],
   "source": [
    "def get_data(case_name, purpose, i):\n",
    "    if purpose == \"test\":\n",
    "        return Util.get_data_test(case_name, purpose, i)\n",
    "    else:\n",
    "        return Util.get_data(case_name, purpose)"
   ]
  },
  {
   "cell_type": "code",
   "execution_count": 1,
   "metadata": {},
   "outputs": [],
   "source": [
    "def get_distance_graph(purpose):\n",
    "    frames=[]\n",
    "    for i in range(5):\n",
    "        x,y = get_data(case_name, purpose, i)\n",
    "#         f1_1,f1_2 = metric.get_distance_f1_score(case_name, purpose)\n",
    "        distance,y_predict = metric.get_distance_predict(case_name,purpose+\"_\"+str(i))\n",
    "        frames.append(pd.DataFrame({'testing': [i]*len(distance), 'distance': distance,'predict': np.where(y!=y_predict,\"Error\" , \"Correct\")}))\n",
    "        \n",
    "#         print(distance[y!=y_predict])\n",
    "#         print(x[distance>1.5])\n",
    "        print( x[distance>1.5])\n",
    "#         print(x[y!=y_predict],Util.get_status(case_name,y_predict[y!=y_predict]))\n",
    "        print(\"\\n\\n\")\n",
    "    print(Util.print_reports_send(case_name,y,y_predict,\"\", \"\", \"\"))\n",
    "\n",
    "    \n",
    "    fig, ax = plt.subplots()\n",
    "    annot = ax.annotate(C.cases[case_name][1], xy=(3,0.5), xytext=(20,20),textcoords=\"offset points\",horizontalalignment='left',\n",
    "                    bbox=dict(boxstyle=\"round\", fc=\"w\"),\n",
    "                    arrowprops=dict(arrowstyle=\"->\"))\n",
    "    ax.annotate(C.cases[case_name][0], xy=(3,-0.5), xytext=(20,20),textcoords=\"offset points\",\n",
    "                    bbox=dict(boxstyle=\"round\", fc=\"w\"),horizontalalignment='left', verticalalignment='top',\n",
    "                    arrowprops=dict(arrowstyle=\"->\"))\n",
    "    sc = sns.scatterplot(data=pd.concat(frames), x=\"testing\", y=\"distance\",hue=\"predict\",style=\"predict\")\n",
    "    plt.legend(loc='upper left')\n",
    "    point1 = [0, 0]\n",
    "    point2 = [4, 0]\n",
    "    ax.xaxis.set_major_locator(MaxNLocator(integer=True))\n",
    "    x_values = [point1[0], point2[0]]\n",
    "    y_values = [point1[1], point2[1]]\n",
    "    plt.plot(x_values, y_values, 'k--')"
   ]
  },
  {
   "cell_type": "code",
   "execution_count": 2,
   "metadata": {
    "scrolled": false
   },
   "outputs": [
    {
     "ename": "NameError",
     "evalue": "name 'purpose' is not defined",
     "output_type": "error",
     "traceback": [
      "\u001b[0;31m---------------------------------------------------------------------------\u001b[0m",
      "\u001b[0;31mNameError\u001b[0m                                 Traceback (most recent call last)",
      "\u001b[0;32m<ipython-input-2-9eb158d67e92>\u001b[0m in \u001b[0;36m<module>\u001b[0;34m\u001b[0m\n\u001b[0;32m----> 1\u001b[0;31m \u001b[0mget_distance_graph\u001b[0m\u001b[0;34m(\u001b[0m\u001b[0mpurpose\u001b[0m\u001b[0;34m)\u001b[0m\u001b[0;34m\u001b[0m\u001b[0;34m\u001b[0m\u001b[0m\n\u001b[0m",
      "\u001b[0;31mNameError\u001b[0m: name 'purpose' is not defined"
     ]
    }
   ],
   "source": [
    "get_distance_graph(purpose)"
   ]
  },
  {
   "cell_type": "code",
   "execution_count": 9,
   "metadata": {},
   "outputs": [],
   "source": [
    "frames=[]\n",
    "for i in range(5):\n",
    "    frames.append(pd.DataFrame(metric.get_metrics_data(case_name,purpose+\"_\"+str(i))))\n",
    "\n",
    "data = pd.concat(frames)\n",
    "data\n",
    "row1 = \"\\multirow{2}{*}{1}  & Trump Tweet (500) & $18^{th}$ Aug - $14^{th}$ Aug &  \"\n",
    "row2 = \"\\n                     & Boris Tweet (500) & $18^{th}$ Aug - $14^{th}$ Aug  &  \""
   ]
  },
  {
   "cell_type": "code",
   "execution_count": 10,
   "metadata": {},
   "outputs": [
    {
     "data": {
      "text/html": [
       "<div>\n",
       "<style scoped>\n",
       "    .dataframe tbody tr th:only-of-type {\n",
       "        vertical-align: middle;\n",
       "    }\n",
       "\n",
       "    .dataframe tbody tr th {\n",
       "        vertical-align: top;\n",
       "    }\n",
       "\n",
       "    .dataframe thead th {\n",
       "        text-align: right;\n",
       "    }\n",
       "</style>\n",
       "<table border=\"1\" class=\"dataframe\">\n",
       "  <thead>\n",
       "    <tr style=\"text-align: right;\">\n",
       "      <th></th>\n",
       "      <th>m_lambda</th>\n",
       "      <th>ns</th>\n",
       "      <th>Data1</th>\n",
       "      <th>Data2</th>\n",
       "      <th>precision1</th>\n",
       "      <th>precision2</th>\n",
       "      <th>recall1</th>\n",
       "      <th>recall2</th>\n",
       "      <th>f1_1</th>\n",
       "      <th>f1_2</th>\n",
       "      <th>support1</th>\n",
       "      <th>support2</th>\n",
       "    </tr>\n",
       "  </thead>\n",
       "  <tbody>\n",
       "    <tr>\n",
       "      <th>0</th>\n",
       "      <td>0.85</td>\n",
       "      <td>[5]</td>\n",
       "      <td>50</td>\n",
       "      <td>50</td>\n",
       "      <td>1.00</td>\n",
       "      <td>0.98</td>\n",
       "      <td>0.98</td>\n",
       "      <td>1.00</td>\n",
       "      <td>0.99</td>\n",
       "      <td>0.99</td>\n",
       "      <td>119</td>\n",
       "      <td>138</td>\n",
       "    </tr>\n",
       "    <tr>\n",
       "      <th>0</th>\n",
       "      <td>0.85</td>\n",
       "      <td>[5]</td>\n",
       "      <td>50</td>\n",
       "      <td>50</td>\n",
       "      <td>0.93</td>\n",
       "      <td>1.00</td>\n",
       "      <td>1.00</td>\n",
       "      <td>0.92</td>\n",
       "      <td>0.96</td>\n",
       "      <td>0.96</td>\n",
       "      <td>119</td>\n",
       "      <td>138</td>\n",
       "    </tr>\n",
       "    <tr>\n",
       "      <th>0</th>\n",
       "      <td>0.85</td>\n",
       "      <td>[5, 5]</td>\n",
       "      <td>50</td>\n",
       "      <td>50</td>\n",
       "      <td>1.00</td>\n",
       "      <td>1.00</td>\n",
       "      <td>1.00</td>\n",
       "      <td>1.00</td>\n",
       "      <td>1.00</td>\n",
       "      <td>1.00</td>\n",
       "      <td>119</td>\n",
       "      <td>138</td>\n",
       "    </tr>\n",
       "    <tr>\n",
       "      <th>0</th>\n",
       "      <td>0.85</td>\n",
       "      <td>[5, 5]</td>\n",
       "      <td>50</td>\n",
       "      <td>50</td>\n",
       "      <td>1.00</td>\n",
       "      <td>1.00</td>\n",
       "      <td>1.00</td>\n",
       "      <td>1.00</td>\n",
       "      <td>1.00</td>\n",
       "      <td>1.00</td>\n",
       "      <td>119</td>\n",
       "      <td>138</td>\n",
       "    </tr>\n",
       "    <tr>\n",
       "      <th>0</th>\n",
       "      <td>0.85</td>\n",
       "      <td>[5, 5]</td>\n",
       "      <td>50</td>\n",
       "      <td>50</td>\n",
       "      <td>0.93</td>\n",
       "      <td>1.00</td>\n",
       "      <td>1.00</td>\n",
       "      <td>0.92</td>\n",
       "      <td>0.96</td>\n",
       "      <td>0.96</td>\n",
       "      <td>119</td>\n",
       "      <td>138</td>\n",
       "    </tr>\n",
       "  </tbody>\n",
       "</table>\n",
       "</div>"
      ],
      "text/plain": [
       "  m_lambda      ns  Data1  Data2  precision1  precision2  recall1  recall2  \\\n",
       "0     0.85     [5]     50     50        1.00        0.98     0.98     1.00   \n",
       "0     0.85     [5]     50     50        0.93        1.00     1.00     0.92   \n",
       "0     0.85  [5, 5]     50     50        1.00        1.00     1.00     1.00   \n",
       "0     0.85  [5, 5]     50     50        1.00        1.00     1.00     1.00   \n",
       "0     0.85  [5, 5]     50     50        0.93        1.00     1.00     0.92   \n",
       "\n",
       "   f1_1  f1_2  support1  support2  \n",
       "0  0.99  0.99       119       138  \n",
       "0  0.96  0.96       119       138  \n",
       "0  1.00  1.00       119       138  \n",
       "0  1.00  1.00       119       138  \n",
       "0  0.96  0.96       119       138  "
      ]
     },
     "execution_count": 10,
     "metadata": {},
     "output_type": "execute_result"
    }
   ],
   "source": [
    "data"
   ]
  },
  {
   "cell_type": "code",
   "execution_count": 11,
   "metadata": {},
   "outputs": [],
   "source": [
    "data1 = (row1+data['precision1'].astype(str)+\"    &   \"+data['recall1'].astype(str)+\"    & \"+data['f1_1'].astype(str)+\"   \\\\\\\\\")"
   ]
  },
  {
   "cell_type": "code",
   "execution_count": 12,
   "metadata": {},
   "outputs": [],
   "source": [
    "data2 = row2+data['precision2'].astype(str)+\"    &   \"+data['recall2'].astype(str)+\"    & \"+data['f1_2'].astype(str)+\"   \\\\\\\\\""
   ]
  },
  {
   "cell_type": "code",
   "execution_count": 13,
   "metadata": {},
   "outputs": [],
   "source": [
    "(data1[0:1]+data2[0:1]).to_clipboard(index=False,header=False)"
   ]
  },
  {
   "cell_type": "code",
   "execution_count": 14,
   "metadata": {},
   "outputs": [],
   "source": [
    "(data1[1:2]+data2[1:2]).to_clipboard(index=False,header=False)"
   ]
  },
  {
   "cell_type": "code",
   "execution_count": 15,
   "metadata": {},
   "outputs": [],
   "source": [
    "(data1[2:3]+data2[2:3]).to_clipboard(index=False,header=False)"
   ]
  },
  {
   "cell_type": "code",
   "execution_count": 16,
   "metadata": {},
   "outputs": [],
   "source": [
    "(data1[3:4]+data2[3:4]).to_clipboard(index=False,header=False)"
   ]
  },
  {
   "cell_type": "code",
   "execution_count": 17,
   "metadata": {},
   "outputs": [],
   "source": [
    "(data1[4:5]+data2[4:5]).to_clipboard(index=False,header=False)"
   ]
  },
  {
   "cell_type": "code",
   "execution_count": null,
   "metadata": {},
   "outputs": [],
   "source": []
  }
 ],
 "metadata": {
  "kernelspec": {
   "display_name": "Python 3",
   "language": "python",
   "name": "python3"
  },
  "language_info": {
   "codemirror_mode": {
    "name": "ipython",
    "version": 3
   },
   "file_extension": ".py",
   "mimetype": "text/x-python",
   "name": "python",
   "nbconvert_exporter": "python",
   "pygments_lexer": "ipython3",
   "version": "3.8.5"
  }
 },
 "nbformat": 4,
 "nbformat_minor": 4
}
