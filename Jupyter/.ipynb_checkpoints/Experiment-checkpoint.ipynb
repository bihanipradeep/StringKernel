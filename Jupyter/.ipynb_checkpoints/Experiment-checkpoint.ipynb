{
 "cells": [
  {
   "cell_type": "code",
   "execution_count": 1,
   "metadata": {},
   "outputs": [],
   "source": [
    "import os\n",
    "import sys\n",
    "import importlib\n",
    "import numpy as np\n",
    "import seaborn as sns\n",
    "import pandas as pd\n",
    "from IPython.display import Image, HTML, display"
   ]
  },
  {
   "cell_type": "code",
   "execution_count": 2,
   "metadata": {},
   "outputs": [],
   "source": [
    "sys.path.insert(0, os.path.abspath('../'))\n",
    "imagePath = os.path.abspath('../')+'/img/shakespeare.jpg'\n",
    "from Kernel.SubsequenceStringKernel import SubsequenceStringKernel\n",
    "import Util.Util as Util\n",
    "import Constant as C\n",
    "import Util.MetricsUtil as metric\n",
    "from Model.SVMModel import SVMModel"
   ]
  },
  {
   "cell_type": "code",
   "execution_count": 3,
   "metadata": {},
   "outputs": [
    {
     "data": {
      "text/plain": [
       "<module 'Constant' from '/Users/pradeep/Files/ML/StringKernel/Constant.py'>"
      ]
     },
     "execution_count": 3,
     "metadata": {},
     "output_type": "execute_result"
    }
   ],
   "source": [
    "importlib.reload(Util)\n",
    "importlib.reload(metric)\n",
    "importlib.reload(C)"
   ]
  },
  {
   "cell_type": "code",
   "execution_count": 4,
   "metadata": {},
   "outputs": [],
   "source": [
    "%matplotlib notebook\n",
    "from matplotlib import pyplot as plt\n",
    "from matplotlib.pyplot import figure\n",
    "from matplotlib.ticker import MaxNLocator"
   ]
  },
  {
   "cell_type": "code",
   "execution_count": 5,
   "metadata": {},
   "outputs": [
    {
     "name": "stdout",
     "output_type": "stream",
     "text": [
      "experiment1 :  Trump vs Erdogan\n",
      "experiment2 :  Trump vs Macron\n",
      "experiment3 :  Trump vs Shakespeare\n",
      "experiment4 :  Shakespeare vs Bible\n",
      "experiment5 :  Trump vs Biden\n",
      "experiment6 :  Biden vs Bible\n"
     ]
    }
   ],
   "source": [
    "for i in [1,2,3,4,5,6]:\n",
    "    experimentNo=i\n",
    "    experimentname=\"experiment\"+str(experimentNo)\n",
    "    print(experimentname,\": \",C.cases[C.Experiments[experimentname]][0],\"vs\",C.cases[C.Experiments[experimentname]][1])\n",
    "\n",
    "experimentNo=1\n",
    "experimentname=\"experiment\"+str(experimentNo)\n",
    "case_name = C.Experiments[experimentname]\n",
    "purpose=\"test\"\n",
    "m_lambda = C.m_lambda\n",
    "n = C.N"
   ]
  },
  {
   "cell_type": "code",
   "execution_count": 6,
   "metadata": {},
   "outputs": [],
   "source": [
    "def get_data(case_name, purpose, i):\n",
    "    if purpose == \"test\":\n",
    "        return Util.get_data_test(case_name, purpose, i)\n",
    "    else:\n",
    "        return Util.get_data(case_name, purpose)"
   ]
  },
  {
   "cell_type": "code",
   "execution_count": 41,
   "metadata": {},
   "outputs": [
    {
     "data": {
      "text/html": [
       "<table><tr><td><img src=../img/trump.jpg></td><td><h2>Behold, there is a people come out of Egypt, which covereth the face of the earth: come now, curse me them; peradventure I shall be able to overcome them, and drive them out.</h2></td></tr></table>"
      ],
      "text/plain": [
       "<IPython.core.display.HTML object>"
      ]
     },
     "metadata": {},
     "output_type": "display_data"
    }
   ],
   "source": [
    "x_test = Util.get_data_x(case_name, purpose)\n",
    "x, y1 = Util.get_data(case_name, \"input\")\n",
    "clf = Util.read_model(case_name, m_lambda, n)\n",
    "ssk = SubsequenceStringKernel(n, m_lambda, x[clf.support_], x_test)\n",
    "k = ssk.get_kernel(case_name, clf.support_)\n",
    "svm = SVMModel(case_name)\n",
    "decision_score = svm.decision_function_local(k)\n",
    "y_predict = svm.prediction_local(k)\n",
    "status = Util.get_status(case_name, y_predict)\n",
    "htmltext=[]\n",
    "for i in range(len(y_predict)):\n",
    "    class_number = 0 if y_predict[i] == -1 else 1\n",
    "    htmltext.append(\"<tr><td><img src=../img/\"+C.images[experimentname][class_number]+\"></td><td><h2>\"+x_test[i][0]+\"</h2></td></tr>\")\n",
    "display(HTML(\"<table>\"+\"\".join(htmltext)+\"</table>\"))"
   ]
  },
  {
   "cell_type": "code",
   "execution_count": null,
   "metadata": {},
   "outputs": [],
   "source": []
  },
  {
   "cell_type": "code",
   "execution_count": null,
   "metadata": {},
   "outputs": [],
   "source": []
  }
 ],
 "metadata": {
  "kernelspec": {
   "display_name": "Python 3",
   "language": "python",
   "name": "python3"
  },
  "language_info": {
   "codemirror_mode": {
    "name": "ipython",
    "version": 3
   },
   "file_extension": ".py",
   "mimetype": "text/x-python",
   "name": "python",
   "nbconvert_exporter": "python",
   "pygments_lexer": "ipython3",
   "version": "3.8.5"
  }
 },
 "nbformat": 4,
 "nbformat_minor": 4
}
