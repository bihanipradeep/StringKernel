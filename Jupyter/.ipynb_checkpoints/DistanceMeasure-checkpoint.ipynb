{
 "cells": [
  {
   "cell_type": "code",
   "execution_count": 109,
   "metadata": {},
   "outputs": [
    {
     "data": {
      "text/plain": [
       "<module 'Constant' from '/Users/pradeep/Files/ML/StringKernel/Constant.py'>"
      ]
     },
     "execution_count": 109,
     "metadata": {},
     "output_type": "execute_result"
    }
   ],
   "source": [
    "import os\n",
    "import sys\n",
    "sys.path.insert(0, os.path.abspath('../'))\n",
    "from Kernel.SubsequenceStringKernel import SubsequenceStringKernel\n",
    "import Util as Util\n",
    "import importlib\n",
    "importlib.reload(Util)\n",
    "import numpy as np\n",
    "from matplotlib import pyplot as plt \n",
    "import Constant as C\n",
    "importlib.reload(C)"
   ]
  },
  {
   "cell_type": "code",
   "execution_count": 110,
   "metadata": {},
   "outputs": [],
   "source": [
    "case_name=\"case2\""
   ]
  },
  {
   "cell_type": "code",
   "execution_count": 111,
   "metadata": {},
   "outputs": [],
   "source": [
    "kernels=Util.get_kernels(case_name)\n",
    "clfs = Util.get_models(case_name)\n",
    "m_lambdas = C.m_lambdas"
   ]
  },
  {
   "cell_type": "code",
   "execution_count": 112,
   "metadata": {},
   "outputs": [],
   "source": [
    "def get_decision_function(clf, k):\n",
    "    y_ = []\n",
    "    support_ = clf.support_\n",
    "    dual_coef_ = clf.dual_coef_[0]\n",
    "    intercept_ = clf.intercept_[0]\n",
    "    for i in range(len(k)):\n",
    "        svk = k[i][support_]\n",
    "        y_.append(svk.dot(dual_coef_.T) + intercept_)\n",
    "    return y_"
   ]
  },
  {
   "cell_type": "code",
   "execution_count": 113,
   "metadata": {},
   "outputs": [],
   "source": [
    "def get_distance_decision_line(clf, k):\n",
    "    first = np.sqrt((clf.dual_coef_[0]*clf.dual_coef_[0]).sum()+clf.intercept_[0]**2)\n",
    "    \n",
    "    second = np.sqrt(clf.n_support_.sum()+1)\n",
    "    d_f = get_decision_function(clf, k)\n",
    "    return np.divide(d_f,first*second), d_f\n",
    "#     return np.divide(get_decision_function(clf, k), np.sqrt((clf.dual_coef_[0]*clf.dual_coef_[0]).sum()+clf.intercept_[0]^2)*    return np.divide(get_decision_function(clf, k), np.sqrt((clf.dual_coef_[0]*clf.dual_coef_[0]).sum()+clf.intercept_[0]^2)*np.sqrt(clf.n_support_.sum()+1))"
   ]
  },
  {
   "cell_type": "code",
   "execution_count": 114,
   "metadata": {},
   "outputs": [],
   "source": [
    "# # def get_distance_decision_line1(clf, k):\n",
    "#     return np.divide(get_decision_function(clf, k), (clf.dual_coef_[0]*clf.dual_coef_[0]).sum()+clf.intercept_[0]^2) * np.sqrt(clf.n_support_.sum()+1))"
   ]
  },
  {
   "cell_type": "code",
   "execution_count": 115,
   "metadata": {},
   "outputs": [],
   "source": [
    "from matplotlib import pyplot as plt\n",
    "from matplotlib.pyplot import figure"
   ]
  },
  {
   "cell_type": "code",
   "execution_count": 163,
   "metadata": {},
   "outputs": [],
   "source": [
    "def get_value( y, distance):\n",
    "    tp = 0\n",
    "    fn = 0\n",
    "    fp = 0\n",
    "    for i,d in enumerate(distance):  \n",
    "        if d > 0 and y[i] > 0:\n",
    "            tp+=d\n",
    "        elif (d > 0 and y[i] < 0):\n",
    "            fp+=d\n",
    "        elif d < 0 and y[i] > 0:\n",
    "            fn+=d\n",
    "    return (2*tp)/(2*tp+ fp-fn)\n",
    "\n",
    "def get_value1( y, distance):\n",
    "    tp = 0\n",
    "    fn = 0\n",
    "    fp = 0\n",
    "    for i,d in enumerate(distance):  \n",
    "        if d < 0 and y[i] < 0:\n",
    "            tp+=-d\n",
    "        elif (d < 0 and y[i] > 0):\n",
    "            fp+=-d\n",
    "        elif d > 0 and y[i] > 0:\n",
    "            fn+=d\n",
    "    return (2*tp)/(2*tp+ fp+fn)"
   ]
  },
  {
   "cell_type": "code",
   "execution_count": 169,
   "metadata": {},
   "outputs": [],
   "source": [
    "def get_distance_graph():\n",
    "    for i,m_lambda in enumerate(m_lambdas):\n",
    "        normal_distance , distance= get_distance_decision_line(clfs[i],kernels[i])\n",
    "#         print(normal_distance)\n",
    "        \n",
    "        x,y = Util.get_data(case_name, \"test\")\n",
    "        y_predict = clfs[i].predict(kernels[i]) \n",
    "#         print(y==y_predict)\n",
    "        print(m_lambda)\n",
    "        print(\"Biden : \",get_value(y,distance))\n",
    "        print(\"Shakshphere : \",get_value1(y,distance))\n",
    "#         \n",
    "#         print(distance)\n",
    "#         print(distance)\n",
    "#         print(normal_distance)\n",
    "#         print(\"MAX:\", max(normal_distance))\n",
    "#         print(\"MIN:\",min(normal_distance))\n",
    "        plt.scatter([m_lambda for _ in range(len(distance))],normal_distance,c=(y==y_predict))\n",
    "    plt.show()"
   ]
  },
  {
   "cell_type": "code",
   "execution_count": 170,
   "metadata": {},
   "outputs": [
    {
     "name": "stdout",
     "output_type": "stream",
     "text": [
      "Biden :  0.969129400598618\n",
      "Shakshphere :  0.7046221776943139\n",
      "Biden :  0.9695760440590413\n",
      "Shakshphere :  0.7058794305007031\n",
      "Biden :  0.9703873427523184\n",
      "Shakshphere :  0.7081311279032034\n",
      "Biden :  0.9717741814666438\n",
      "Shakshphere :  0.712907325806874\n",
      "Biden :  0.974162380884566\n",
      "Shakshphere :  0.7217640560477633\n",
      "Biden :  0.9743679656565981\n",
      "Shakshphere :  0.7331836806650854\n",
      "Biden :  0.9743531739149043\n",
      "Shakshphere :  0.7417700687308583\n",
      "Biden :  0.9731038585105007\n",
      "Shakshphere :  0.7452003975471128\n",
      "Biden :  0.9628751545948533\n",
      "Shakshphere :  0.7403406282834175\n"
     ]
    },
    {
     "data": {
      "image/png": "[encoded data removed]",
      "text/plain": [
       "<Figure size 432x288 with 1 Axes>"
      ]
     },
     "metadata": {
      "needs_background": "light"
     },
     "output_type": "display_data"
    }
   ],
   "source": [
    "get_distance_graph()"
   ]
  },
  {
   "cell_type": "code",
   "execution_count": null,
   "metadata": {},
   "outputs": [],
   "source": []
  }
 ],
 "metadata": {
  "kernelspec": {
   "display_name": "Python 3",
   "language": "python",
   "name": "python3"
  },
  "language_info": {
   "codemirror_mode": {
    "name": "ipython",
    "version": 3
   },
   "file_extension": ".py",
   "mimetype": "text/x-python",
   "name": "python",
   "nbconvert_exporter": "python",
   "pygments_lexer": "ipython3",
   "version": "3.8.5"
  }
 },
 "nbformat": 4,
 "nbformat_minor": 4
}
